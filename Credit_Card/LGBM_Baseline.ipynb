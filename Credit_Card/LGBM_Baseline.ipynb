{
  "nbformat": 4,
  "nbformat_minor": 0,
  "metadata": {
    "colab": {
      "name": "LGBM_Baseline.ipynb",
      "provenance": [],
      "collapsed_sections": [],
      "mount_file_id": "10Qv4ALQQbbZao4J4UK5ZsBx55U4F3zZE",
      "authorship_tag": "ABX9TyNsv2cYH9atNzsqn4UEEBow",
      "include_colab_link": true
    },
    "kernelspec": {
      "name": "python3",
      "display_name": "Python 3"
    },
    "language_info": {
      "name": "python"
    }
  },
  "cells": [
    {
      "cell_type": "markdown",
      "metadata": {
        "id": "view-in-github",
        "colab_type": "text"
      },
      "source": [
        "<a href=\"https://colab.research.google.com/github/park-geun-hyeong/Dacon/blob/main/Credit_Card/LGBM_Baseline.ipynb\" target=\"_parent\"><img src=\"https://colab.research.google.com/assets/colab-badge.svg\" alt=\"Open In Colab\"/></a>"
      ]
    },
    {
      "cell_type": "markdown",
      "metadata": {
        "id": "HPTd9Qi9aAJ1"
      },
      "source": [
        "##Library Import"
      ]
    },
    {
      "cell_type": "code",
      "metadata": {
        "id": "O5T36A70P613"
      },
      "source": [
        "import numpy as np\n",
        "import pandas as pd\n",
        "import matplotlib.pyplot as plt\n",
        "import warnings\n",
        "warnings.filterwarnings('ignore')\n",
        "\n",
        "import os\n",
        "import glob \n",
        "\n",
        "from sklearn.model_selection import StratifiedKFold\n",
        "from lightgbm import LGBMClassifier\n",
        "from sklearn.preprocessing import OneHotEncoder\n"
      ],
      "execution_count": 2,
      "outputs": []
    },
    {
      "cell_type": "code",
      "metadata": {
        "id": "GuhSOEUhQv-D"
      },
      "source": [
        "path = '/content/drive/MyDrive/Dacon/Credit_card/'\n",
        "\n",
        "train = pd.read_csv(path+'train.csv')\n",
        "test = pd.read_csv(path+'test.csv')\n",
        "submission = pd.read_csv(path+'sample_submission.csv')"
      ],
      "execution_count": 80,
      "outputs": []
    },
    {
      "cell_type": "code",
      "metadata": {
        "colab": {
          "base_uri": "https://localhost:8080/",
          "height": 240
        },
        "id": "xiwfv5nDaHMO",
        "outputId": "79033489-6e2d-4f0e-d88d-babb9674075d"
      },
      "source": [
        "train.head(3)"
      ],
      "execution_count": 81,
      "outputs": [
        {
          "output_type": "execute_result",
          "data": {
            "text/html": [
              "<div>\n",
              "<style scoped>\n",
              "    .dataframe tbody tr th:only-of-type {\n",
              "        vertical-align: middle;\n",
              "    }\n",
              "\n",
              "    .dataframe tbody tr th {\n",
              "        vertical-align: top;\n",
              "    }\n",
              "\n",
              "    .dataframe thead th {\n",
              "        text-align: right;\n",
              "    }\n",
              "</style>\n",
              "<table border=\"1\" class=\"dataframe\">\n",
              "  <thead>\n",
              "    <tr style=\"text-align: right;\">\n",
              "      <th></th>\n",
              "      <th>index</th>\n",
              "      <th>gender</th>\n",
              "      <th>car</th>\n",
              "      <th>reality</th>\n",
              "      <th>child_num</th>\n",
              "      <th>income_total</th>\n",
              "      <th>income_type</th>\n",
              "      <th>edu_type</th>\n",
              "      <th>family_type</th>\n",
              "      <th>house_type</th>\n",
              "      <th>DAYS_BIRTH</th>\n",
              "      <th>DAYS_EMPLOYED</th>\n",
              "      <th>FLAG_MOBIL</th>\n",
              "      <th>work_phone</th>\n",
              "      <th>phone</th>\n",
              "      <th>email</th>\n",
              "      <th>occyp_type</th>\n",
              "      <th>family_size</th>\n",
              "      <th>begin_month</th>\n",
              "      <th>credit</th>\n",
              "    </tr>\n",
              "  </thead>\n",
              "  <tbody>\n",
              "    <tr>\n",
              "      <th>0</th>\n",
              "      <td>0</td>\n",
              "      <td>F</td>\n",
              "      <td>N</td>\n",
              "      <td>N</td>\n",
              "      <td>0</td>\n",
              "      <td>202500.0</td>\n",
              "      <td>Commercial associate</td>\n",
              "      <td>Higher education</td>\n",
              "      <td>Married</td>\n",
              "      <td>Municipal apartment</td>\n",
              "      <td>-13899</td>\n",
              "      <td>-4709</td>\n",
              "      <td>1</td>\n",
              "      <td>0</td>\n",
              "      <td>0</td>\n",
              "      <td>0</td>\n",
              "      <td>NaN</td>\n",
              "      <td>2.0</td>\n",
              "      <td>-6.0</td>\n",
              "      <td>1.0</td>\n",
              "    </tr>\n",
              "    <tr>\n",
              "      <th>1</th>\n",
              "      <td>1</td>\n",
              "      <td>F</td>\n",
              "      <td>N</td>\n",
              "      <td>Y</td>\n",
              "      <td>1</td>\n",
              "      <td>247500.0</td>\n",
              "      <td>Commercial associate</td>\n",
              "      <td>Secondary / secondary special</td>\n",
              "      <td>Civil marriage</td>\n",
              "      <td>House / apartment</td>\n",
              "      <td>-11380</td>\n",
              "      <td>-1540</td>\n",
              "      <td>1</td>\n",
              "      <td>0</td>\n",
              "      <td>0</td>\n",
              "      <td>1</td>\n",
              "      <td>Laborers</td>\n",
              "      <td>3.0</td>\n",
              "      <td>-5.0</td>\n",
              "      <td>1.0</td>\n",
              "    </tr>\n",
              "    <tr>\n",
              "      <th>2</th>\n",
              "      <td>2</td>\n",
              "      <td>M</td>\n",
              "      <td>Y</td>\n",
              "      <td>Y</td>\n",
              "      <td>0</td>\n",
              "      <td>450000.0</td>\n",
              "      <td>Working</td>\n",
              "      <td>Higher education</td>\n",
              "      <td>Married</td>\n",
              "      <td>House / apartment</td>\n",
              "      <td>-19087</td>\n",
              "      <td>-4434</td>\n",
              "      <td>1</td>\n",
              "      <td>0</td>\n",
              "      <td>1</td>\n",
              "      <td>0</td>\n",
              "      <td>Managers</td>\n",
              "      <td>2.0</td>\n",
              "      <td>-22.0</td>\n",
              "      <td>2.0</td>\n",
              "    </tr>\n",
              "  </tbody>\n",
              "</table>\n",
              "</div>"
            ],
            "text/plain": [
              "   index gender car reality  ...  occyp_type  family_size begin_month credit\n",
              "0      0      F   N       N  ...         NaN          2.0        -6.0    1.0\n",
              "1      1      F   N       Y  ...    Laborers          3.0        -5.0    1.0\n",
              "2      2      M   Y       Y  ...    Managers          2.0       -22.0    2.0\n",
              "\n",
              "[3 rows x 20 columns]"
            ]
          },
          "metadata": {
            "tags": []
          },
          "execution_count": 81
        }
      ]
    },
    {
      "cell_type": "code",
      "metadata": {
        "colab": {
          "base_uri": "https://localhost:8080/"
        },
        "id": "xGASB9PFaEKf",
        "outputId": "67448f03-33ae-44f8-cc22-cd705aa8b48b"
      },
      "source": [
        "train.info()"
      ],
      "execution_count": 82,
      "outputs": [
        {
          "output_type": "stream",
          "text": [
            "<class 'pandas.core.frame.DataFrame'>\n",
            "RangeIndex: 26457 entries, 0 to 26456\n",
            "Data columns (total 20 columns):\n",
            " #   Column         Non-Null Count  Dtype  \n",
            "---  ------         --------------  -----  \n",
            " 0   index          26457 non-null  int64  \n",
            " 1   gender         26457 non-null  object \n",
            " 2   car            26457 non-null  object \n",
            " 3   reality        26457 non-null  object \n",
            " 4   child_num      26457 non-null  int64  \n",
            " 5   income_total   26457 non-null  float64\n",
            " 6   income_type    26457 non-null  object \n",
            " 7   edu_type       26457 non-null  object \n",
            " 8   family_type    26457 non-null  object \n",
            " 9   house_type     26457 non-null  object \n",
            " 10  DAYS_BIRTH     26457 non-null  int64  \n",
            " 11  DAYS_EMPLOYED  26457 non-null  int64  \n",
            " 12  FLAG_MOBIL     26457 non-null  int64  \n",
            " 13  work_phone     26457 non-null  int64  \n",
            " 14  phone          26457 non-null  int64  \n",
            " 15  email          26457 non-null  int64  \n",
            " 16  occyp_type     18286 non-null  object \n",
            " 17  family_size    26457 non-null  float64\n",
            " 18  begin_month    26457 non-null  float64\n",
            " 19  credit         26457 non-null  float64\n",
            "dtypes: float64(4), int64(8), object(8)\n",
            "memory usage: 4.0+ MB\n"
          ],
          "name": "stdout"
        }
      ]
    },
    {
      "cell_type": "markdown",
      "metadata": {
        "id": "1RaGaX0-b7im"
      },
      "source": [
        "## Data FeatureEngineering\n",
        "- drop index column\n",
        "- fillna to 'NAN'\n",
        "- OneHotEncoding for object Dtype colunmns\n",
        "\n"
      ]
    },
    {
      "cell_type": "code",
      "metadata": {
        "id": "sHwxWYTgRGAx"
      },
      "source": [
        "del train['index']\n",
        "del test['index'] "
      ],
      "execution_count": 83,
      "outputs": []
    },
    {
      "cell_type": "code",
      "metadata": {
        "id": "Gcz8obLpRSmv"
      },
      "source": [
        "train.fillna('NAN', inplace=True)\n",
        "test.fillna('NAN',inplace=True)  "
      ],
      "execution_count": 84,
      "outputs": []
    },
    {
      "cell_type": "code",
      "metadata": {
        "id": "7sWGmoqQRg66"
      },
      "source": [
        "obj_col=[]\n",
        "\n",
        "for col in train.columns:\n",
        "    if train[col].dtype == 'object':\n",
        "        obj_col.append(col)"
      ],
      "execution_count": 90,
      "outputs": []
    },
    {
      "cell_type": "code",
      "metadata": {
        "colab": {
          "base_uri": "https://localhost:8080/"
        },
        "id": "Fe17dEz6RstI",
        "outputId": "6c252548-5cc4-4e7a-a08c-6e94bb0c8b85"
      },
      "source": [
        "obj_col"
      ],
      "execution_count": 91,
      "outputs": [
        {
          "output_type": "execute_result",
          "data": {
            "text/plain": [
              "['gender',\n",
              " 'car',\n",
              " 'reality',\n",
              " 'income_type',\n",
              " 'edu_type',\n",
              " 'family_type',\n",
              " 'house_type',\n",
              " 'occyp_type']"
            ]
          },
          "metadata": {
            "tags": []
          },
          "execution_count": 91
        }
      ]
    },
    {
      "cell_type": "code",
      "metadata": {
        "id": "20w21QYVRta8"
      },
      "source": [
        "enc = OneHotEncoder()\n",
        "enc.fit(train.loc[:,obj_col])\n",
        "\n",
        "train_one_df = pd.DataFrame(enc.transform(train.loc[:,obj_col]).toarray(), columns = enc.get_feature_names(obj_col))\n",
        "train.drop(obj_col,axis=1, inplace=True)\n",
        "train = pd.concat([train, train_one_df],axis=1)"
      ],
      "execution_count": 92,
      "outputs": []
    },
    {
      "cell_type": "code",
      "metadata": {
        "id": "1L2IdoU_S-h7"
      },
      "source": [
        "test_one_df = pd.DataFrame(enc.transform(test.loc[:,obj_col]).toarray(), columns = enc.get_feature_names(obj_col))\n",
        "test.drop(test_obj,axis=1, inplace=True)\n",
        "test = pd.concat([test,test_one_df],axis=1)"
      ],
      "execution_count": 93,
      "outputs": []
    },
    {
      "cell_type": "code",
      "metadata": {
        "colab": {
          "base_uri": "https://localhost:8080/"
        },
        "id": "bsCt9P0-UXuZ",
        "outputId": "d23ec1f0-ac69-45c2-fff2-a4fb65c359d5"
      },
      "source": [
        "train.shape, test.shape"
      ],
      "execution_count": 94,
      "outputs": [
        {
          "output_type": "execute_result",
          "data": {
            "text/plain": [
              "((26457, 57), (10000, 56))"
            ]
          },
          "metadata": {
            "tags": []
          },
          "execution_count": 94
        }
      ]
    },
    {
      "cell_type": "markdown",
      "metadata": {
        "id": "uRFoZgb5cXUJ"
      },
      "source": [
        "## Split Train, Val Dataset(StratifiedKFold)"
      ]
    },
    {
      "cell_type": "code",
      "metadata": {
        "id": "jbZVi2DUUcLT"
      },
      "source": [
        "skf = StratifiedKFold(n_splits=5, shuffle=True, random_state=42)\n",
        "\n",
        "folds=[] \n",
        "\n",
        "for train_idx, val_idx in skf.split(train, train['credit']):\n",
        "    folds.append((train_idx, val_idx))"
      ],
      "execution_count": 44,
      "outputs": []
    },
    {
      "cell_type": "code",
      "metadata": {
        "id": "jjAzprHlXcC4"
      },
      "source": [
        "import random"
      ],
      "execution_count": 53,
      "outputs": []
    },
    {
      "cell_type": "markdown",
      "metadata": {
        "id": "VoDOKbeYcc7t"
      },
      "source": [
        "## Train(LGBMClassifier)"
      ]
    },
    {
      "cell_type": "code",
      "metadata": {
        "colab": {
          "base_uri": "https://localhost:8080/"
        },
        "id": "e_RY6RldVCjN",
        "outputId": "ea2c54a6-70ce-4e63-d962-2aa5ada61bcf"
      },
      "source": [
        "random.seed(42)\n",
        "\n",
        "lgb_models={}\n",
        "\n",
        "for fold in range(5):\n",
        "    print(f'___________________________fold:{fold+1}_________________________')\n",
        "    train_idx, val_idx = folds[fold]\n",
        "\n",
        "    x_train, x_val, y_train, y_val = train.drop('credit',axis=1).iloc[train_idx].values , train.drop('credit', axis=1).iloc[val_idx].values, train['credit'].iloc[train_idx].values, train['credit'].iloc[val_idx].values \n",
        "    lgb = LGBMClassifier(n_estimators=1000)\n",
        "\n",
        "    lgb.fit(x_train,y_train, eval_set=[(x_train,y_train),(x_val,y_val)], early_stopping_rounds=30, verbose=100)\n",
        "    lgb_models[fold] = lgb\n",
        "\n",
        "    print(\"___________________________________________________________________\\n\")                                                                   "
      ],
      "execution_count": 95,
      "outputs": [
        {
          "output_type": "stream",
          "text": [
            "___________________________fold:1_________________________\n",
            "Training until validation scores don't improve for 30 rounds.\n",
            "[100]\ttraining's multi_logloss: 0.677988\tvalid_1's multi_logloss: 0.759487\n",
            "[200]\ttraining's multi_logloss: 0.60364\tvalid_1's multi_logloss: 0.740355\n",
            "[300]\ttraining's multi_logloss: 0.54788\tvalid_1's multi_logloss: 0.73406\n",
            "[400]\ttraining's multi_logloss: 0.502351\tvalid_1's multi_logloss: 0.729556\n",
            "Early stopping, best iteration is:\n",
            "[435]\ttraining's multi_logloss: 0.488139\tvalid_1's multi_logloss: 0.728254\n",
            "___________________________________________________________________\n",
            "\n",
            "___________________________fold:2_________________________\n",
            "Training until validation scores don't improve for 30 rounds.\n",
            "[100]\ttraining's multi_logloss: 0.677007\tvalid_1's multi_logloss: 0.769037\n",
            "[200]\ttraining's multi_logloss: 0.601918\tvalid_1's multi_logloss: 0.755076\n",
            "[300]\ttraining's multi_logloss: 0.545834\tvalid_1's multi_logloss: 0.749569\n",
            "[400]\ttraining's multi_logloss: 0.498598\tvalid_1's multi_logloss: 0.746432\n",
            "Early stopping, best iteration is:\n",
            "[401]\ttraining's multi_logloss: 0.498225\tvalid_1's multi_logloss: 0.74633\n",
            "___________________________________________________________________\n",
            "\n",
            "___________________________fold:3_________________________\n",
            "Training until validation scores don't improve for 30 rounds.\n",
            "[100]\ttraining's multi_logloss: 0.679443\tvalid_1's multi_logloss: 0.763921\n",
            "[200]\ttraining's multi_logloss: 0.602347\tvalid_1's multi_logloss: 0.747701\n",
            "[300]\ttraining's multi_logloss: 0.544489\tvalid_1's multi_logloss: 0.74279\n",
            "Early stopping, best iteration is:\n",
            "[335]\ttraining's multi_logloss: 0.527464\tvalid_1's multi_logloss: 0.741857\n",
            "___________________________________________________________________\n",
            "\n",
            "___________________________fold:4_________________________\n",
            "Training until validation scores don't improve for 30 rounds.\n",
            "[100]\ttraining's multi_logloss: 0.674511\tvalid_1's multi_logloss: 0.760123\n",
            "[200]\ttraining's multi_logloss: 0.602862\tvalid_1's multi_logloss: 0.7448\n",
            "[300]\ttraining's multi_logloss: 0.546612\tvalid_1's multi_logloss: 0.736874\n",
            "[400]\ttraining's multi_logloss: 0.501154\tvalid_1's multi_logloss: 0.733042\n",
            "Early stopping, best iteration is:\n",
            "[431]\ttraining's multi_logloss: 0.488618\tvalid_1's multi_logloss: 0.732753\n",
            "___________________________________________________________________\n",
            "\n",
            "___________________________fold:5_________________________\n",
            "Training until validation scores don't improve for 30 rounds.\n",
            "[100]\ttraining's multi_logloss: 0.679753\tvalid_1's multi_logloss: 0.761942\n",
            "[200]\ttraining's multi_logloss: 0.603217\tvalid_1's multi_logloss: 0.746839\n",
            "[300]\ttraining's multi_logloss: 0.547491\tvalid_1's multi_logloss: 0.739275\n",
            "Early stopping, best iteration is:\n",
            "[353]\ttraining's multi_logloss: 0.521706\tvalid_1's multi_logloss: 0.73809\n",
            "___________________________________________________________________\n",
            "\n"
          ],
          "name": "stdout"
        }
      ]
    },
    {
      "cell_type": "markdown",
      "metadata": {
        "id": "og4puc5kc3Gs"
      },
      "source": [
        "## Predict to 1-Fold"
      ]
    },
    {
      "cell_type": "code",
      "metadata": {
        "id": "lp4eJhmoXWE9"
      },
      "source": [
        "pred = lgb.predict_proba(test)"
      ],
      "execution_count": 55,
      "outputs": []
    },
    {
      "cell_type": "code",
      "metadata": {
        "colab": {
          "base_uri": "https://localhost:8080/"
        },
        "id": "oqGT1MnFYN5S",
        "outputId": "5b73c0e6-37e1-4b54-88ee-5f415437fb2a"
      },
      "source": [
        "pred"
      ],
      "execution_count": 56,
      "outputs": [
        {
          "output_type": "execute_result",
          "data": {
            "text/plain": [
              "array([[0.05889216, 0.12938202, 0.81172582],\n",
              "       [0.11735777, 0.22211774, 0.66052449],\n",
              "       [0.03667307, 0.16308428, 0.80024265],\n",
              "       ...,\n",
              "       [0.0245766 , 0.02129316, 0.95413023],\n",
              "       [0.16100987, 0.17178689, 0.66720323],\n",
              "       [0.05508855, 0.24586632, 0.69904513]])"
            ]
          },
          "metadata": {
            "tags": []
          },
          "execution_count": 56
        }
      ]
    },
    {
      "cell_type": "code",
      "metadata": {
        "id": "eisy95KuYOaR"
      },
      "source": [
        "submission.iloc[:,1:]=pred"
      ],
      "execution_count": 57,
      "outputs": []
    },
    {
      "cell_type": "code",
      "metadata": {
        "colab": {
          "base_uri": "https://localhost:8080/",
          "height": 402
        },
        "id": "1a5vknBrYRHf",
        "outputId": "d492cacb-dd8a-4b61-8772-7bbb8eb8fdc0"
      },
      "source": [
        "submission"
      ],
      "execution_count": 58,
      "outputs": [
        {
          "output_type": "execute_result",
          "data": {
            "text/html": [
              "<div>\n",
              "<style scoped>\n",
              "    .dataframe tbody tr th:only-of-type {\n",
              "        vertical-align: middle;\n",
              "    }\n",
              "\n",
              "    .dataframe tbody tr th {\n",
              "        vertical-align: top;\n",
              "    }\n",
              "\n",
              "    .dataframe thead th {\n",
              "        text-align: right;\n",
              "    }\n",
              "</style>\n",
              "<table border=\"1\" class=\"dataframe\">\n",
              "  <thead>\n",
              "    <tr style=\"text-align: right;\">\n",
              "      <th></th>\n",
              "      <th>index</th>\n",
              "      <th>0</th>\n",
              "      <th>1</th>\n",
              "      <th>2</th>\n",
              "    </tr>\n",
              "  </thead>\n",
              "  <tbody>\n",
              "    <tr>\n",
              "      <th>0</th>\n",
              "      <td>26457</td>\n",
              "      <td>0.058892</td>\n",
              "      <td>0.129382</td>\n",
              "      <td>0.811726</td>\n",
              "    </tr>\n",
              "    <tr>\n",
              "      <th>1</th>\n",
              "      <td>26458</td>\n",
              "      <td>0.117358</td>\n",
              "      <td>0.222118</td>\n",
              "      <td>0.660524</td>\n",
              "    </tr>\n",
              "    <tr>\n",
              "      <th>2</th>\n",
              "      <td>26459</td>\n",
              "      <td>0.036673</td>\n",
              "      <td>0.163084</td>\n",
              "      <td>0.800243</td>\n",
              "    </tr>\n",
              "    <tr>\n",
              "      <th>3</th>\n",
              "      <td>26460</td>\n",
              "      <td>0.213784</td>\n",
              "      <td>0.112477</td>\n",
              "      <td>0.673739</td>\n",
              "    </tr>\n",
              "    <tr>\n",
              "      <th>4</th>\n",
              "      <td>26461</td>\n",
              "      <td>0.088536</td>\n",
              "      <td>0.279802</td>\n",
              "      <td>0.631663</td>\n",
              "    </tr>\n",
              "    <tr>\n",
              "      <th>...</th>\n",
              "      <td>...</td>\n",
              "      <td>...</td>\n",
              "      <td>...</td>\n",
              "      <td>...</td>\n",
              "    </tr>\n",
              "    <tr>\n",
              "      <th>9995</th>\n",
              "      <td>36452</td>\n",
              "      <td>0.112932</td>\n",
              "      <td>0.182735</td>\n",
              "      <td>0.704333</td>\n",
              "    </tr>\n",
              "    <tr>\n",
              "      <th>9996</th>\n",
              "      <td>36453</td>\n",
              "      <td>0.134534</td>\n",
              "      <td>0.279818</td>\n",
              "      <td>0.585648</td>\n",
              "    </tr>\n",
              "    <tr>\n",
              "      <th>9997</th>\n",
              "      <td>36454</td>\n",
              "      <td>0.024577</td>\n",
              "      <td>0.021293</td>\n",
              "      <td>0.954130</td>\n",
              "    </tr>\n",
              "    <tr>\n",
              "      <th>9998</th>\n",
              "      <td>36455</td>\n",
              "      <td>0.161010</td>\n",
              "      <td>0.171787</td>\n",
              "      <td>0.667203</td>\n",
              "    </tr>\n",
              "    <tr>\n",
              "      <th>9999</th>\n",
              "      <td>36456</td>\n",
              "      <td>0.055089</td>\n",
              "      <td>0.245866</td>\n",
              "      <td>0.699045</td>\n",
              "    </tr>\n",
              "  </tbody>\n",
              "</table>\n",
              "<p>10000 rows × 4 columns</p>\n",
              "</div>"
            ],
            "text/plain": [
              "      index         0         1         2\n",
              "0     26457  0.058892  0.129382  0.811726\n",
              "1     26458  0.117358  0.222118  0.660524\n",
              "2     26459  0.036673  0.163084  0.800243\n",
              "3     26460  0.213784  0.112477  0.673739\n",
              "4     26461  0.088536  0.279802  0.631663\n",
              "...     ...       ...       ...       ...\n",
              "9995  36452  0.112932  0.182735  0.704333\n",
              "9996  36453  0.134534  0.279818  0.585648\n",
              "9997  36454  0.024577  0.021293  0.954130\n",
              "9998  36455  0.161010  0.171787  0.667203\n",
              "9999  36456  0.055089  0.245866  0.699045\n",
              "\n",
              "[10000 rows x 4 columns]"
            ]
          },
          "metadata": {
            "tags": []
          },
          "execution_count": 58
        }
      ]
    },
    {
      "cell_type": "code",
      "metadata": {
        "id": "CrX0EDQlYSKb"
      },
      "source": [
        "submission.to_csv('lgbm1.csv',index=False)"
      ],
      "execution_count": 59,
      "outputs": []
    },
    {
      "cell_type": "markdown",
      "metadata": {
        "id": "JZI-TyNWc7dO"
      },
      "source": [
        "## Predict to Fold_Ensemble(5Fold)"
      ]
    },
    {
      "cell_type": "code",
      "metadata": {
        "id": "7fneK_axcyMo"
      },
      "source": [
        "submission = pd.read_csv(path+'sample_submission.csv')"
      ],
      "execution_count": null,
      "outputs": []
    },
    {
      "cell_type": "code",
      "metadata": {
        "id": "K4UToIF5YYEw"
      },
      "source": [
        "submission.iloc[:,1:]=0\n",
        "\n",
        "for fold in range(5):\n",
        "    submission.iloc[:,1:] += lgb_models[fold].predict_proba(test)"
      ],
      "execution_count": 67,
      "outputs": []
    },
    {
      "cell_type": "code",
      "metadata": {
        "id": "7ycA-AogZG31"
      },
      "source": [
        "submission.iloc[:,1:] = submission.iloc[:,1:] / 5"
      ],
      "execution_count": 68,
      "outputs": []
    },
    {
      "cell_type": "code",
      "metadata": {
        "id": "EN4haFJiZNCT"
      },
      "source": [
        "submission.to_csv('lgbm2.csv',index=False)"
      ],
      "execution_count": 74,
      "outputs": []
    }
  ]
}